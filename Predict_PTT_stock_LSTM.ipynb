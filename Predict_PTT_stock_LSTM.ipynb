{
  "nbformat": 4,
  "nbformat_minor": 0,
  "metadata": {
    "colab": {
      "name": "Predict_PTT_stock_LSTM.ipynb",
      "provenance": [],
      "collapsed_sections": [],
      "authorship_tag": "ABX9TyPvp6cRV6V1JOffAZpR5+QT",
      "include_colab_link": true
    },
    "kernelspec": {
      "name": "python3",
      "display_name": "Python 3"
    }
  },
  "cells": [
    {
      "cell_type": "markdown",
      "metadata": {
        "id": "view-in-github",
        "colab_type": "text"
      },
      "source": [
        "<a href=\"https://colab.research.google.com/github/LonelyFriday/Predict_PTT_stock_by_RNNs/blob/main/Predict_PTT_stock_LSTM.ipynb\" target=\"_parent\"><img src=\"https://colab.research.google.com/assets/colab-badge.svg\" alt=\"Open In Colab\"/></a>"
      ]
    },
    {
      "cell_type": "code",
      "metadata": {
        "id": "gn44zjZGfyHY"
      },
      "source": [
        "## import library\r\n",
        "import numpy as np\r\n",
        "import pandas as pd\r\n",
        "import matplotlib.pyplot as plt"
      ],
      "execution_count": 139,
      "outputs": []
    },
    {
      "cell_type": "markdown",
      "metadata": {
        "id": "ziDlCNBT09Kb"
      },
      "source": [
        "## Data: PTT stock price \r\n",
        "\r\n",
        "*   Period: 2011/01/04 - 2021/03/12 \r\n",
        "*   Rows: 2,490 \r\n",
        "*   Columns: 6\r\n",
        "\r\n"
      ]
    },
    {
      "cell_type": "code",
      "metadata": {
        "colab": {
          "base_uri": "https://localhost:8080/",
          "height": 441
        },
        "id": "GH0Jdguff3qO",
        "outputId": "501b0c89-27cc-4055-d43c-128f6cbf6e12"
      },
      "source": [
        "df = pd.read_csv('https://raw.githubusercontent.com/LonelyFriday/Predict_PTT_stock_by_RNNs/main/ptt.csv', parse_dates=True, index_col='Date')\r\n",
        "df"
      ],
      "execution_count": 26,
      "outputs": [
        {
          "output_type": "execute_result",
          "data": {
            "text/html": [
              "<div>\n",
              "<style scoped>\n",
              "    .dataframe tbody tr th:only-of-type {\n",
              "        vertical-align: middle;\n",
              "    }\n",
              "\n",
              "    .dataframe tbody tr th {\n",
              "        vertical-align: top;\n",
              "    }\n",
              "\n",
              "    .dataframe thead th {\n",
              "        text-align: right;\n",
              "    }\n",
              "</style>\n",
              "<table border=\"1\" class=\"dataframe\">\n",
              "  <thead>\n",
              "    <tr style=\"text-align: right;\">\n",
              "      <th></th>\n",
              "      <th>recent</th>\n",
              "      <th>open</th>\n",
              "      <th>high</th>\n",
              "      <th>low</th>\n",
              "      <th>volume</th>\n",
              "      <th>percent</th>\n",
              "    </tr>\n",
              "    <tr>\n",
              "      <th>Date</th>\n",
              "      <th></th>\n",
              "      <th></th>\n",
              "      <th></th>\n",
              "      <th></th>\n",
              "      <th></th>\n",
              "      <th></th>\n",
              "    </tr>\n",
              "  </thead>\n",
              "  <tbody>\n",
              "    <tr>\n",
              "      <th>2011-01-04</th>\n",
              "      <td>33.00</td>\n",
              "      <td>32.50</td>\n",
              "      <td>33.30</td>\n",
              "      <td>32.30</td>\n",
              "      <td>105.95M</td>\n",
              "      <td>3.13%</td>\n",
              "    </tr>\n",
              "    <tr>\n",
              "      <th>2011-01-05</th>\n",
              "      <td>33.20</td>\n",
              "      <td>33.00</td>\n",
              "      <td>33.20</td>\n",
              "      <td>32.80</td>\n",
              "      <td>52.61M</td>\n",
              "      <td>0.61%</td>\n",
              "    </tr>\n",
              "    <tr>\n",
              "      <th>2011-01-06</th>\n",
              "      <td>33.20</td>\n",
              "      <td>33.30</td>\n",
              "      <td>33.40</td>\n",
              "      <td>32.90</td>\n",
              "      <td>39.65M</td>\n",
              "      <td>0.00%</td>\n",
              "    </tr>\n",
              "    <tr>\n",
              "      <th>2011-01-07</th>\n",
              "      <td>32.20</td>\n",
              "      <td>33.10</td>\n",
              "      <td>33.10</td>\n",
              "      <td>32.20</td>\n",
              "      <td>55.19M</td>\n",
              "      <td>-3.01%</td>\n",
              "    </tr>\n",
              "    <tr>\n",
              "      <th>2011-01-10</th>\n",
              "      <td>31.80</td>\n",
              "      <td>32.10</td>\n",
              "      <td>32.20</td>\n",
              "      <td>31.60</td>\n",
              "      <td>83.62M</td>\n",
              "      <td>-1.24%</td>\n",
              "    </tr>\n",
              "    <tr>\n",
              "      <th>...</th>\n",
              "      <td>...</td>\n",
              "      <td>...</td>\n",
              "      <td>...</td>\n",
              "      <td>...</td>\n",
              "      <td>...</td>\n",
              "      <td>...</td>\n",
              "    </tr>\n",
              "    <tr>\n",
              "      <th>2021-03-08</th>\n",
              "      <td>42.00</td>\n",
              "      <td>41.50</td>\n",
              "      <td>42.50</td>\n",
              "      <td>41.50</td>\n",
              "      <td>126.62M</td>\n",
              "      <td>3.70%</td>\n",
              "    </tr>\n",
              "    <tr>\n",
              "      <th>2021-03-09</th>\n",
              "      <td>41.25</td>\n",
              "      <td>42.25</td>\n",
              "      <td>42.25</td>\n",
              "      <td>41.00</td>\n",
              "      <td>95.15M</td>\n",
              "      <td>-1.79%</td>\n",
              "    </tr>\n",
              "    <tr>\n",
              "      <th>2021-03-10</th>\n",
              "      <td>41.50</td>\n",
              "      <td>41.00</td>\n",
              "      <td>41.50</td>\n",
              "      <td>40.75</td>\n",
              "      <td>79.87M</td>\n",
              "      <td>0.61%</td>\n",
              "    </tr>\n",
              "    <tr>\n",
              "      <th>2021-03-11</th>\n",
              "      <td>41.50</td>\n",
              "      <td>41.75</td>\n",
              "      <td>42.00</td>\n",
              "      <td>41.25</td>\n",
              "      <td>61.50M</td>\n",
              "      <td>0.00%</td>\n",
              "    </tr>\n",
              "    <tr>\n",
              "      <th>2021-03-12</th>\n",
              "      <td>41.75</td>\n",
              "      <td>41.75</td>\n",
              "      <td>42.00</td>\n",
              "      <td>41.25</td>\n",
              "      <td>63.25M</td>\n",
              "      <td>0.60%</td>\n",
              "    </tr>\n",
              "  </tbody>\n",
              "</table>\n",
              "<p>2490 rows × 6 columns</p>\n",
              "</div>"
            ],
            "text/plain": [
              "            recent   open   high    low   volume percent\n",
              "Date                                                    \n",
              "2011-01-04   33.00  32.50  33.30  32.30  105.95M   3.13%\n",
              "2011-01-05   33.20  33.00  33.20  32.80   52.61M   0.61%\n",
              "2011-01-06   33.20  33.30  33.40  32.90   39.65M   0.00%\n",
              "2011-01-07   32.20  33.10  33.10  32.20   55.19M  -3.01%\n",
              "2011-01-10   31.80  32.10  32.20  31.60   83.62M  -1.24%\n",
              "...            ...    ...    ...    ...      ...     ...\n",
              "2021-03-08   42.00  41.50  42.50  41.50  126.62M   3.70%\n",
              "2021-03-09   41.25  42.25  42.25  41.00   95.15M  -1.79%\n",
              "2021-03-10   41.50  41.00  41.50  40.75   79.87M   0.61%\n",
              "2021-03-11   41.50  41.75  42.00  41.25   61.50M   0.00%\n",
              "2021-03-12   41.75  41.75  42.00  41.25   63.25M   0.60%\n",
              "\n",
              "[2490 rows x 6 columns]"
            ]
          },
          "metadata": {
            "tags": []
          },
          "execution_count": 26
        }
      ]
    },
    {
      "cell_type": "code",
      "metadata": {
        "colab": {
          "base_uri": "https://localhost:8080/",
          "height": 289
        },
        "id": "Ny_FW0lQjjue",
        "outputId": "05002f5d-36a2-4d1a-b7e2-d3957cf32dbf"
      },
      "source": [
        "## we use Open price as data\r\n",
        "df['open'].plot()"
      ],
      "execution_count": 29,
      "outputs": [
        {
          "output_type": "execute_result",
          "data": {
            "text/plain": [
              "<matplotlib.axes._subplots.AxesSubplot at 0x7f0d54877a50>"
            ]
          },
          "metadata": {
            "tags": []
          },
          "execution_count": 29
        },
        {
          "output_type": "display_data",
          "data": {
            "image/png": "[encoded data removed]",
            "text/plain": [
              "<Figure size 432x288 with 1 Axes>"
            ]
          },
          "metadata": {
            "tags": [],
            "needs_background": "light"
          }
        }
      ]
    },
    {
      "cell_type": "markdown",
      "metadata": {
        "id": "9C9UxP_5qPoR"
      },
      "source": [
        "## Scaling data\r\n",
        "\r\n",
        "*   Normalization: [0, 1]\r\n",
        "\r\n"
      ]
    },
    {
      "cell_type": "code",
      "metadata": {
        "id": "9rCAnjG5qTAJ"
      },
      "source": [
        "from sklearn.preprocessing import MinMaxScaler"
      ],
      "execution_count": 43,
      "outputs": []
    },
    {
      "cell_type": "code",
      "metadata": {
        "id": "sJl4yEJ9qXJj"
      },
      "source": [
        "sc = MinMaxScaler()\r\n",
        "df_sc = sc.fit_transform(df['open'][:-12].values.reshape(-1, 1))"
      ],
      "execution_count": 53,
      "outputs": []
    },
    {
      "cell_type": "markdown",
      "metadata": {
        "id": "yBp82Wur1f3o"
      },
      "source": [
        "## Reshape\r\n",
        "\r\n",
        "\r\n",
        "*   2D -> 3D\r\n",
        "\r\n"
      ]
    },
    {
      "cell_type": "code",
      "metadata": {
        "id": "jHVfNr0EiS95"
      },
      "source": [
        "X_train = []\r\n",
        "Y_train = []\r\n",
        "\r\n",
        "for i in range(60, len(df_sc)):\r\n",
        "  X_train.append(df_sc[i-60:i])\r\n",
        "  Y_train.append(df_sc[i])\r\n",
        "\r\n",
        "X_train, Y_train = np.array(X_train), np.array(Y_train)"
      ],
      "execution_count": 111,
      "outputs": []
    },
    {
      "cell_type": "code",
      "metadata": {
        "colab": {
          "base_uri": "https://localhost:8080/"
        },
        "id": "BUA5lMCco9QB",
        "outputId": "44e57409-f1d8-44bb-9b9a-6675e60224d9"
      },
      "source": [
        "print('Dimension of X_train:', X_train.shape)\r\n",
        "print('Dimension of Y_train:', Y_train.shape, '** we do not need to reshape Y_train to 3D **')"
      ],
      "execution_count": 152,
      "outputs": [
        {
          "output_type": "stream",
          "text": [
            "Dimension of X_train: (2418, 60, 1)\n",
            "Dimension of Y_train: (2418, 1) ** we do not need to reshape Y_train to 3D **\n"
          ],
          "name": "stdout"
        }
      ]
    },
    {
      "cell_type": "markdown",
      "metadata": {
        "id": "z3ZqSb08pHWH"
      },
      "source": [
        "## Model: LSTM\r\n",
        "\r\n",
        "*   2 hidden layer \r\n",
        "*   dropout at 20%\r\n",
        "*   optimizer = adam\r\n",
        "*   measure = Mean Square Error, Root Mean Square Error\r\n",
        "\r\n",
        "\r\n",
        "\r\n"
      ]
    },
    {
      "cell_type": "code",
      "metadata": {
        "id": "loN5r6ZmpGhy"
      },
      "source": [
        "## import library\r\n",
        "from tensorflow.keras.models import Sequential\r\n",
        "from tensorflow.keras.layers import Dense\r\n",
        "from tensorflow.keras.layers import LSTM\r\n",
        "from tensorflow.keras.layers import Dropout\r\n",
        "from tensorflow.keras.metrics import RootMeanSquaredError"
      ],
      "execution_count": 94,
      "outputs": []
    },
    {
      "cell_type": "code",
      "metadata": {
        "id": "vHTzHma5tRBL"
      },
      "source": [
        "model = Sequential()"
      ],
      "execution_count": 115,
      "outputs": []
    },
    {
      "cell_type": "code",
      "metadata": {
        "id": "loqcK6cGtUWP"
      },
      "source": [
        "model.add(LSTM(units=120, return_sequences=True, input_shape=(X_train.shape[1], 1)))\r\n",
        "model.add(Dropout(0.2))\r\n",
        "\r\n",
        "model.add(LSTM(units=120, input_shape=(X_train.shape[1], 1)))\r\n",
        "model.add(Dropout(0.2))\r\n",
        "\r\n",
        "model.add(Dense(units=1))"
      ],
      "execution_count": 116,
      "outputs": []
    },
    {
      "cell_type": "code",
      "metadata": {
        "id": "NEqprx6ut6iw"
      },
      "source": [
        "model.compile(optimizer='adam', loss='mean_squared_error', metrics=[RootMeanSquaredError()])"
      ],
      "execution_count": 117,
      "outputs": []
    },
    {
      "cell_type": "markdown",
      "metadata": {
        "id": "OZUG4a-wuev1"
      },
      "source": [
        "## Train model\r\n",
        "\r\n",
        "*   epochs = 10 รอบ\r\n",
        "*   batch_size = 32 ชุด\r\n",
        "\r\n"
      ]
    },
    {
      "cell_type": "code",
      "metadata": {
        "colab": {
          "base_uri": "https://localhost:8080/"
        },
        "id": "EXaGVaAcuf-e",
        "outputId": "a54165fa-7ac6-4e36-f087-546f036736b1"
      },
      "source": [
        "model.fit(X_train, Y_train, epochs=10, batch_size=32)"
      ],
      "execution_count": 118,
      "outputs": [
        {
          "output_type": "stream",
          "text": [
            "Epoch 1/10\n",
            "76/76 [==============================] - 12s 117ms/step - loss: 0.0281 - root_mean_squared_error: 0.1541\n",
            "Epoch 2/10\n",
            "76/76 [==============================] - 9s 116ms/step - loss: 0.0025 - root_mean_squared_error: 0.0499\n",
            "Epoch 3/10\n",
            "76/76 [==============================] - 9s 115ms/step - loss: 0.0024 - root_mean_squared_error: 0.0486\n",
            "Epoch 4/10\n",
            "76/76 [==============================] - 9s 115ms/step - loss: 0.0021 - root_mean_squared_error: 0.0463\n",
            "Epoch 5/10\n",
            "76/76 [==============================] - 9s 115ms/step - loss: 0.0018 - root_mean_squared_error: 0.0429\n",
            "Epoch 6/10\n",
            "76/76 [==============================] - 9s 115ms/step - loss: 0.0017 - root_mean_squared_error: 0.0412\n",
            "Epoch 7/10\n",
            "76/76 [==============================] - 9s 116ms/step - loss: 0.0017 - root_mean_squared_error: 0.0412\n",
            "Epoch 8/10\n",
            "76/76 [==============================] - 9s 115ms/step - loss: 0.0016 - root_mean_squared_error: 0.0403\n",
            "Epoch 9/10\n",
            "76/76 [==============================] - 9s 116ms/step - loss: 0.0018 - root_mean_squared_error: 0.0425\n",
            "Epoch 10/10\n",
            "76/76 [==============================] - 9s 116ms/step - loss: 0.0016 - root_mean_squared_error: 0.0400\n"
          ],
          "name": "stdout"
        },
        {
          "output_type": "execute_result",
          "data": {
            "text/plain": [
              "<tensorflow.python.keras.callbacks.History at 0x7f0d41c33850>"
            ]
          },
          "metadata": {
            "tags": []
          },
          "execution_count": 118
        }
      ]
    },
    {
      "cell_type": "markdown",
      "metadata": {
        "id": "ioaC1Wikv5Pg"
      },
      "source": [
        "## Predict\r\n",
        "\r\n",
        "*   Predict with X_train\r\n",
        "*   Forecast with X_test (12 days)\r\n",
        "\r\n"
      ]
    },
    {
      "cell_type": "code",
      "metadata": {
        "id": "HluaqkDGwfzt"
      },
      "source": [
        "## Prepare X_test: last 12 days \r\n",
        "X_test_sc = sc.transform(df['open'][-72:].values.reshape(-1, 1))\r\n",
        "\r\n",
        "X_test = []\r\n",
        "Y_test = []\r\n",
        "\r\n",
        "for i in range(60, len(X_test_sc)):\r\n",
        "  X_test.append(X_test_sc[i-60:i])\r\n",
        "  Y_test.append(X_test_sc[i])\r\n",
        "\r\n",
        "X_test, Y_test = np.array(X_test), sc.inverse_transform(np.array(Y_test))"
      ],
      "execution_count": 119,
      "outputs": []
    },
    {
      "cell_type": "code",
      "metadata": {
        "id": "6Q2eOq4py6je"
      },
      "source": [
        "## Remove first 60 days, because the model can't predict these day\r\n",
        "df = df[60:]"
      ],
      "execution_count": 132,
      "outputs": []
    },
    {
      "cell_type": "code",
      "metadata": {
        "colab": {
          "base_uri": "https://localhost:8080/"
        },
        "id": "grAbv123yV52",
        "outputId": "b4cdfd81-0850-4080-8f7e-e9e0622e7b69"
      },
      "source": [
        "## Append the column: predict in the dataframe\r\n",
        "df['predict'] = np.append(sc.inverse_transform(model.predict(X_train)), sc.inverse_transform(model.predict(X_test)))"
      ],
      "execution_count": 136,
      "outputs": [
        {
          "output_type": "stream",
          "text": [
            "/usr/local/lib/python3.7/dist-packages/ipykernel_launcher.py:1: SettingWithCopyWarning: \n",
            "A value is trying to be set on a copy of a slice from a DataFrame.\n",
            "Try using .loc[row_indexer,col_indexer] = value instead\n",
            "\n",
            "See the caveats in the documentation: https://pandas.pydata.org/pandas-docs/stable/user_guide/indexing.html#returning-a-view-versus-a-copy\n",
            "  \"\"\"Entry point for launching an IPython kernel.\n"
          ],
          "name": "stderr"
        }
      ]
    },
    {
      "cell_type": "code",
      "metadata": {
        "colab": {
          "base_uri": "https://localhost:8080/",
          "height": 441
        },
        "id": "e-s42t36ymQl",
        "outputId": "e60d8ec6-a0e5-426e-8697-acdcb20b73de"
      },
      "source": [
        "## new Dataframe \r\n",
        "df"
      ],
      "execution_count": 137,
      "outputs": [
        {
          "output_type": "execute_result",
          "data": {
            "text/html": [
              "<div>\n",
              "<style scoped>\n",
              "    .dataframe tbody tr th:only-of-type {\n",
              "        vertical-align: middle;\n",
              "    }\n",
              "\n",
              "    .dataframe tbody tr th {\n",
              "        vertical-align: top;\n",
              "    }\n",
              "\n",
              "    .dataframe thead th {\n",
              "        text-align: right;\n",
              "    }\n",
              "</style>\n",
              "<table border=\"1\" class=\"dataframe\">\n",
              "  <thead>\n",
              "    <tr style=\"text-align: right;\">\n",
              "      <th></th>\n",
              "      <th>recent</th>\n",
              "      <th>open</th>\n",
              "      <th>high</th>\n",
              "      <th>low</th>\n",
              "      <th>volume</th>\n",
              "      <th>percent</th>\n",
              "      <th>predict</th>\n",
              "    </tr>\n",
              "    <tr>\n",
              "      <th>Date</th>\n",
              "      <th></th>\n",
              "      <th></th>\n",
              "      <th></th>\n",
              "      <th></th>\n",
              "      <th></th>\n",
              "      <th></th>\n",
              "      <th></th>\n",
              "    </tr>\n",
              "  </thead>\n",
              "  <tbody>\n",
              "    <tr>\n",
              "      <th>2011-03-30</th>\n",
              "      <td>35.20</td>\n",
              "      <td>34.80</td>\n",
              "      <td>35.20</td>\n",
              "      <td>34.80</td>\n",
              "      <td>55.06M</td>\n",
              "      <td>1.73%</td>\n",
              "      <td>34.680637</td>\n",
              "    </tr>\n",
              "    <tr>\n",
              "      <th>2011-03-31</th>\n",
              "      <td>35.40</td>\n",
              "      <td>35.30</td>\n",
              "      <td>35.50</td>\n",
              "      <td>35.00</td>\n",
              "      <td>43.96M</td>\n",
              "      <td>0.57%</td>\n",
              "      <td>34.783134</td>\n",
              "    </tr>\n",
              "    <tr>\n",
              "      <th>2011-04-01</th>\n",
              "      <td>35.70</td>\n",
              "      <td>35.60</td>\n",
              "      <td>36.00</td>\n",
              "      <td>35.50</td>\n",
              "      <td>46.93M</td>\n",
              "      <td>0.85%</td>\n",
              "      <td>34.918678</td>\n",
              "    </tr>\n",
              "    <tr>\n",
              "      <th>2011-04-04</th>\n",
              "      <td>36.80</td>\n",
              "      <td>36.10</td>\n",
              "      <td>36.80</td>\n",
              "      <td>36.10</td>\n",
              "      <td>60.64M</td>\n",
              "      <td>3.08%</td>\n",
              "      <td>35.093548</td>\n",
              "    </tr>\n",
              "    <tr>\n",
              "      <th>2011-04-05</th>\n",
              "      <td>36.80</td>\n",
              "      <td>36.70</td>\n",
              "      <td>36.80</td>\n",
              "      <td>36.60</td>\n",
              "      <td>23.79M</td>\n",
              "      <td>0.00%</td>\n",
              "      <td>35.332344</td>\n",
              "    </tr>\n",
              "    <tr>\n",
              "      <th>...</th>\n",
              "      <td>...</td>\n",
              "      <td>...</td>\n",
              "      <td>...</td>\n",
              "      <td>...</td>\n",
              "      <td>...</td>\n",
              "      <td>...</td>\n",
              "      <td>...</td>\n",
              "    </tr>\n",
              "    <tr>\n",
              "      <th>2021-03-08</th>\n",
              "      <td>42.00</td>\n",
              "      <td>41.50</td>\n",
              "      <td>42.50</td>\n",
              "      <td>41.50</td>\n",
              "      <td>126.62M</td>\n",
              "      <td>3.70%</td>\n",
              "      <td>39.962135</td>\n",
              "    </tr>\n",
              "    <tr>\n",
              "      <th>2021-03-09</th>\n",
              "      <td>41.25</td>\n",
              "      <td>42.25</td>\n",
              "      <td>42.25</td>\n",
              "      <td>41.00</td>\n",
              "      <td>95.15M</td>\n",
              "      <td>-1.79%</td>\n",
              "      <td>40.164761</td>\n",
              "    </tr>\n",
              "    <tr>\n",
              "      <th>2021-03-10</th>\n",
              "      <td>41.50</td>\n",
              "      <td>41.00</td>\n",
              "      <td>41.50</td>\n",
              "      <td>40.75</td>\n",
              "      <td>79.87M</td>\n",
              "      <td>0.61%</td>\n",
              "      <td>40.546127</td>\n",
              "    </tr>\n",
              "    <tr>\n",
              "      <th>2021-03-11</th>\n",
              "      <td>41.50</td>\n",
              "      <td>41.75</td>\n",
              "      <td>42.00</td>\n",
              "      <td>41.25</td>\n",
              "      <td>61.50M</td>\n",
              "      <td>0.00%</td>\n",
              "      <td>40.815323</td>\n",
              "    </tr>\n",
              "    <tr>\n",
              "      <th>2021-03-12</th>\n",
              "      <td>41.75</td>\n",
              "      <td>41.75</td>\n",
              "      <td>42.00</td>\n",
              "      <td>41.25</td>\n",
              "      <td>63.25M</td>\n",
              "      <td>0.60%</td>\n",
              "      <td>41.085327</td>\n",
              "    </tr>\n",
              "  </tbody>\n",
              "</table>\n",
              "<p>2430 rows × 7 columns</p>\n",
              "</div>"
            ],
            "text/plain": [
              "            recent   open   high    low   volume percent    predict\n",
              "Date                                                               \n",
              "2011-03-30   35.20  34.80  35.20  34.80   55.06M   1.73%  34.680637\n",
              "2011-03-31   35.40  35.30  35.50  35.00   43.96M   0.57%  34.783134\n",
              "2011-04-01   35.70  35.60  36.00  35.50   46.93M   0.85%  34.918678\n",
              "2011-04-04   36.80  36.10  36.80  36.10   60.64M   3.08%  35.093548\n",
              "2011-04-05   36.80  36.70  36.80  36.60   23.79M   0.00%  35.332344\n",
              "...            ...    ...    ...    ...      ...     ...        ...\n",
              "2021-03-08   42.00  41.50  42.50  41.50  126.62M   3.70%  39.962135\n",
              "2021-03-09   41.25  42.25  42.25  41.00   95.15M  -1.79%  40.164761\n",
              "2021-03-10   41.50  41.00  41.50  40.75   79.87M   0.61%  40.546127\n",
              "2021-03-11   41.50  41.75  42.00  41.25   61.50M   0.00%  40.815323\n",
              "2021-03-12   41.75  41.75  42.00  41.25   63.25M   0.60%  41.085327\n",
              "\n",
              "[2430 rows x 7 columns]"
            ]
          },
          "metadata": {
            "tags": []
          },
          "execution_count": 137
        }
      ]
    },
    {
      "cell_type": "markdown",
      "metadata": {
        "id": "p5-o7pDU3Jc2"
      },
      "source": [
        "## Line plot only last 12 days (Test set) "
      ]
    },
    {
      "cell_type": "code",
      "metadata": {
        "colab": {
          "base_uri": "https://localhost:8080/",
          "height": 293
        },
        "id": "RbgDQd6az7Ib",
        "outputId": "27a48110-1383-46ee-a1ee-dbe5db870858"
      },
      "source": [
        "plt.plot(df.open[-12:], label='Actual')\r\n",
        "plt.plot(df.predict[-12:], label='Predict')\r\n",
        "plt.xticks(rotation=30)\r\n",
        "plt.legend()\r\n",
        "plt.show()"
      ],
      "execution_count": 142,
      "outputs": [
        {
          "output_type": "display_data",
          "data": {
            "image/png": "[encoded data removed]",
            "text/plain": [
              "<Figure size 432x288 with 1 Axes>"
            ]
          },
          "metadata": {
            "tags": [],
            "needs_background": "light"
          }
        }
      ]
    },
    {
      "cell_type": "markdown",
      "metadata": {
        "id": "I-dsPiRp3Snm"
      },
      "source": [
        "## Line plot from 2011/03/30 until 2021-03-12"
      ]
    },
    {
      "cell_type": "code",
      "metadata": {
        "colab": {
          "base_uri": "https://localhost:8080/",
          "height": 278
        },
        "id": "CfkePLiZzfnc",
        "outputId": "080a4d04-f717-4dce-fc52-842d7e213d37"
      },
      "source": [
        "plt.plot(df.open, label='Actual')\r\n",
        "plt.plot(df.predict, label='Predict')\r\n",
        "plt.xticks(rotation=30)\r\n",
        "plt.legend()\r\n",
        "plt.show()"
      ],
      "execution_count": 143,
      "outputs": [
        {
          "output_type": "display_data",
          "data": {
            "image/png": "[encoded data removed]",
            "text/plain": [
              "<Figure size 432x288 with 1 Axes>"
            ]
          },
          "metadata": {
            "tags": [],
            "needs_background": "light"
          }
        }
      ]
    },
    {
      "cell_type": "markdown",
      "metadata": {
        "id": "6QFoBb560buI"
      },
      "source": [
        "## Measurement: Root mean square error (RMSE)\r\n",
        "\r\n",
        "*   unit in Thai Baht\r\n",
        "\r\n"
      ]
    },
    {
      "cell_type": "code",
      "metadata": {
        "id": "YsaQ4Pex0g8y"
      },
      "source": [
        "## import library\r\n",
        "from sklearn.metrics import mean_squared_error"
      ],
      "execution_count": 144,
      "outputs": []
    },
    {
      "cell_type": "code",
      "metadata": {
        "colab": {
          "base_uri": "https://localhost:8080/"
        },
        "id": "gaUt-SVQ3lel",
        "outputId": "322d24da-39bd-402a-9ca8-6475a0a86431"
      },
      "source": [
        "print('RMSE on Train set:                   ', round(mean_squared_error(df.open[:-12], df.predict[:-12], squared=False), 2), 'Baht')\r\n",
        "print('RMSE on Test set (last 12 days):     ', round(mean_squared_error(df.open[-12:], df.predict[-12:], squared=False), 2), 'Baht')\r\n",
        "print('RMSE on 2011/03/30 until 2021/03/12: ', round(mean_squared_error(df.open[:], df.predict[:], squared=False), 2), 'Baht')"
      ],
      "execution_count": 157,
      "outputs": [
        {
          "output_type": "stream",
          "text": [
            "RMSE on Train set:                    1.06 Baht\n",
            "RMSE on Test set (last 12 days):      0.86 Baht\n",
            "RMSE on 2011/03/30 until 2021/03/12:  1.06 Baht\n"
          ],
          "name": "stdout"
        }
      ]
    }
  ]
}